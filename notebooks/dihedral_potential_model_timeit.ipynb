{
 "cells": [
  {
   "cell_type": "code",
   "execution_count": 1,
   "metadata": {
    "collapsed": true
   },
   "outputs": [],
   "source": [
    "import numpy as np\n",
    "from pymatgen import Molecule\n",
    "from pymatgen.io.qchem import QcTask, QcOutput\n",
    "import math"
   ]
  },
  {
   "cell_type": "markdown",
   "metadata": {},
   "source": [
    "# Get dihedral angle and energy from qchem files"
   ]
  },
  {
   "cell_type": "code",
   "execution_count": 2,
   "metadata": {
    "collapsed": true
   },
   "outputs": [],
   "source": [
    "import os \n",
    "import re"
   ]
  },
  {
   "cell_type": "code",
   "execution_count": 3,
   "metadata": {
    "collapsed": true
   },
   "outputs": [],
   "source": [
    "# this is not placed in utils yet because error checking hasn't been finalized\n",
    "def get_energy_dihedral(directory):\n",
    "    dihedral, energy = [], []\n",
    "    for f in os.listdir(directory):\n",
    "        if \".qcout\" in f:\n",
    "            if \".orig\" not in f:\n",
    "                output = QcOutput('{d}/{f}'.format(d=directory,f=f))\n",
    "                qchem_in = output.data[-1]['input']\n",
    "                try:\n",
    "                    energy.append(output.final_energy)\n",
    "                except IndexError:\n",
    "                    energy.append('no energy') \n",
    "                constraints = qchem_in.params['opt']\n",
    "                for l in constraints:\n",
    "                    if 'tors' in l:\n",
    "                        dihedral.append(l[len(l)-1])\n",
    "    return dihedral, energy"
   ]
  },
  {
   "cell_type": "code",
   "execution_count": 4,
   "metadata": {
    "collapsed": true
   },
   "outputs": [],
   "source": [
    "dihedral, energy = get_energy_dihedral('./pt_cust_dft_full')"
   ]
  },
  {
   "cell_type": "markdown",
   "metadata": {},
   "source": [
    "# Fit and plot dihedral potential"
   ]
  },
  {
   "cell_type": "code",
   "execution_count": 5,
   "metadata": {
    "collapsed": true
   },
   "outputs": [],
   "source": [
    "import matplotlib.pyplot as plt\n",
    "%matplotlib inline"
   ]
  },
  {
   "cell_type": "code",
   "execution_count": 6,
   "metadata": {
    "collapsed": true
   },
   "outputs": [],
   "source": [
    "from scipy.optimize import curve_fit"
   ]
  },
  {
   "cell_type": "code",
   "execution_count": 7,
   "metadata": {
    "collapsed": true
   },
   "outputs": [],
   "source": [
    "# Ryckaert_Bellemans dihedral potential function\n",
    "def RB_potential(x, a, b, c, d, e, f):\n",
    "    return (a*1.0 + b*np.cos(x*np.pi/180.0) \n",
    "            + c*(np.cos(x*np.pi/180.0)**2) \n",
    "            + d*(np.cos(x*np.pi/180.0)**3) \n",
    "            + e*(np.cos(x*np.pi/180.0)**4) \n",
    "            + f*(np.cos(x*np.pi/180.0)**5))"
   ]
  },
  {
   "cell_type": "code",
   "execution_count": 8,
   "metadata": {
    "collapsed": true
   },
   "outputs": [],
   "source": [
    "import utils"
   ]
  },
  {
   "cell_type": "code",
   "execution_count": 9,
   "metadata": {
    "collapsed": true
   },
   "outputs": [],
   "source": [
    "rel_eV_energy = utils.relative_energy(energy)"
   ]
  },
  {
   "cell_type": "code",
   "execution_count": 10,
   "metadata": {
    "collapsed": true
   },
   "outputs": [],
   "source": [
    "fit_params, fit_covar = curve_fit(RB_potential,dihedral,rel_eV_energy)"
   ]
  },
  {
   "cell_type": "code",
   "execution_count": 11,
   "metadata": {
    "collapsed": true
   },
   "outputs": [],
   "source": [
    "# create list of angles and corresponding energies\n",
    "angles = np.linspace(-179, 180, 4000)\n",
    "RB_energy = [RB_potential(angle, fit_params[0], fit_params[1], \n",
    "                          fit_params[2], fit_params[3], fit_params[4], \n",
    "                          fit_params[5]) for angle in angles]"
   ]
  },
  {
   "cell_type": "code",
   "execution_count": 12,
   "metadata": {
    "collapsed": false,
    "scrolled": true
   },
   "outputs": [
    {
     "data": {
      "image/png": "[encoded data removed]",
      "text/plain": [
       "<matplotlib.figure.Figure at 0x116c6fbd0>"
      ]
     },
     "metadata": {},
     "output_type": "display_data"
    }
   ],
   "source": [
    "plt.figure()\n",
    "plt.plot(dihedral, rel_eV_energy, 'o', angles, RB_energy, 'black')\n",
    "plt.xlabel('Dihedral angle')\n",
    "plt.ylabel('Relative eV')\n",
    "plt.show()"
   ]
  },
  {
   "cell_type": "code",
   "execution_count": 13,
   "metadata": {
    "collapsed": false
   },
   "outputs": [
    {
     "data": {
      "text/plain": [
       "array([ 0.09589618,  0.00937093, -0.21725121,  0.00549039,  0.14653387,\n",
       "        0.00507763])"
      ]
     },
     "execution_count": 13,
     "metadata": {},
     "output_type": "execute_result"
    }
   ],
   "source": [
    "fit_params"
   ]
  },
  {
   "cell_type": "markdown",
   "metadata": {},
   "source": [
    "# Boltzmann distribution"
   ]
  },
  {
   "cell_type": "code",
   "execution_count": 14,
   "metadata": {
    "collapsed": true
   },
   "outputs": [],
   "source": [
    "# kbT in eV/KS\n",
    "kb_eV_K = 8.6173324 * 10**-5"
   ]
  },
  {
   "cell_type": "code",
   "execution_count": 15,
   "metadata": {
    "collapsed": true
   },
   "outputs": [],
   "source": [
    "kbT700 = kb_eV_K * 700.0\n",
    "kbT300 = kb_eV_K * 300.0"
   ]
  },
  {
   "cell_type": "code",
   "execution_count": 16,
   "metadata": {
    "collapsed": true
   },
   "outputs": [],
   "source": [
    "# normalization \n",
    "boltz_factor_700 = [np.exp(-energy / kbT700) for energy in RB_energy]\n",
    "normalize_val = sum(boltz_factor_700)"
   ]
  },
  {
   "cell_type": "code",
   "execution_count": 17,
   "metadata": {
    "collapsed": true
   },
   "outputs": [],
   "source": [
    "prob_700 = [(np.exp(-energy / kbT700) / normalize_val) for energy in RB_energy]"
   ]
  },
  {
   "cell_type": "code",
   "execution_count": 18,
   "metadata": {
    "collapsed": false
   },
   "outputs": [
    {
     "data": {
      "image/png": "[encoded data removed]",
      "text/plain": [
       "<matplotlib.figure.Figure at 0x11244d410>"
      ]
     },
     "metadata": {},
     "output_type": "display_data"
    }
   ],
   "source": [
    "plt.figure()\n",
    "plt.plot(angles, prob_700)\n",
    "plt.xlabel('Diheadral angle')\n",
    "plt.ylabel('Probability')\n",
    "plt.show()"
   ]
  },
  {
   "cell_type": "markdown",
   "metadata": {},
   "source": [
    "# Map dihedral angles to random numbers between 0-1"
   ]
  },
  {
   "cell_type": "code",
   "execution_count": 19,
   "metadata": {
    "collapsed": false
   },
   "outputs": [],
   "source": [
    "cum_prob = [sum(prob_700[0:prob_i]) for prob_i in range(len(prob_700))]"
   ]
  },
  {
   "cell_type": "code",
   "execution_count": 20,
   "metadata": {
    "collapsed": false
   },
   "outputs": [
    {
     "data": {
      "image/png": "[encoded data removed]",
      "text/plain": [
       "<matplotlib.figure.Figure at 0x116e86b50>"
      ]
     },
     "metadata": {},
     "output_type": "display_data"
    }
   ],
   "source": [
    "plt.figure()\n",
    "plt.plot(cum_prob, angles)\n",
    "plt.xlabel('Cumulative probability')\n",
    "plt.ylabel('Dihedral angle')\n",
    "plt.show()"
   ]
  },
  {
   "cell_type": "code",
   "execution_count": 21,
   "metadata": {
    "collapsed": false
   },
   "outputs": [
    {
     "data": {
      "text/plain": [
       "4000"
      ]
     },
     "execution_count": 21,
     "metadata": {},
     "output_type": "execute_result"
    }
   ],
   "source": [
    "len(angles)"
   ]
  },
  {
   "cell_type": "code",
   "execution_count": 22,
   "metadata": {
    "collapsed": false
   },
   "outputs": [
    {
     "data": {
      "text/plain": [
       "array([  0.00000000e+00,   8.33944954e-04,   1.66788991e-03, ...,\n",
       "         9.98232110e-01,   9.99066055e-01,   9.99900000e-01])"
      ]
     },
     "execution_count": 22,
     "metadata": {},
     "output_type": "execute_result"
    }
   ],
   "source": [
    "fake_x = np.linspace(0.0, .9999, 1200)\n",
    "fake_x"
   ]
  },
  {
   "cell_type": "code",
   "execution_count": 23,
   "metadata": {
    "collapsed": false
   },
   "outputs": [
    {
     "ename": "NameError",
     "evalue": "name 'cum_params' is not defined",
     "output_type": "error",
     "traceback": [
      "\u001b[0;31m---------------------------------------------------------------------------\u001b[0m",
      "\u001b[0;31mNameError\u001b[0m                                 Traceback (most recent call last)",
      "\u001b[0;32m<ipython-input-23-92774ccc6ec4>\u001b[0m in \u001b[0;36m<module>\u001b[0;34m()\u001b[0m\n\u001b[1;32m      4\u001b[0m                     \u001b[0mcum_params\u001b[0m\u001b[0;34m[\u001b[0m\u001b[0;36m3\u001b[0m\u001b[0;34m]\u001b[0m\u001b[0;34m*\u001b[0m\u001b[0mx\u001b[0m\u001b[0;34m**\u001b[0m\u001b[0;36m2\u001b[0m \u001b[0;34m+\u001b[0m\u001b[0;34m\u001b[0m\u001b[0m\n\u001b[1;32m      5\u001b[0m                     \u001b[0mcum_params\u001b[0m\u001b[0;34m[\u001b[0m\u001b[0;36m4\u001b[0m\u001b[0;34m]\u001b[0m\u001b[0;34m*\u001b[0m\u001b[0mx\u001b[0m\u001b[0;34m**\u001b[0m\u001b[0;36m1\u001b[0m \u001b[0;34m+\u001b[0m\u001b[0;34m\u001b[0m\u001b[0m\n\u001b[0;32m----> 6\u001b[0;31m                     cum_params[5]) for x in fake_x]\n\u001b[0m",
      "\u001b[0;31mNameError\u001b[0m: name 'cum_params' is not defined"
     ]
    }
   ],
   "source": [
    "angles_frm_poly = [(cum_params[0]*x**5 + \n",
    "                    cum_params[1]*x**4 + \n",
    "                    cum_params[2]*x**3 + \n",
    "                    cum_params[3]*x**2 + \n",
    "                    cum_params[4]*x**1 + \n",
    "                    cum_params[5]) for x in fake_x]"
   ]
  },
  {
   "cell_type": "code",
   "execution_count": null,
   "metadata": {
    "collapsed": false
   },
   "outputs": [],
   "source": [
    "plt.figure()\n",
    "plt.plot(fake_x, angles_frm_poly)\n",
    "plt.xlabel('cum_prob')\n",
    "plt.ylabel('dihedral')\n",
    "plt.show()"
   ]
  },
  {
   "cell_type": "code",
   "execution_count": null,
   "metadata": {
    "collapsed": false
   },
   "outputs": [],
   "source": [
    "cum_params_RB, covar = curve_fit(RB_potential, cum_prob , angles)\n",
    "cum_params"
   ]
  },
  {
   "cell_type": "code",
   "execution_count": null,
   "metadata": {
    "collapsed": true
   },
   "outputs": [],
   "source": [
    "RB_angles = [RB_potential(cum_probs, cum_params_RB[0], cum_params_RB[1], \n",
    "                          cum_params_RB[2], cum_params_RB[3], cum_params_RB[4], \n",
    "                          cum_params_RB[5]) for cum_probs in cum_prob]"
   ]
  },
  {
   "cell_type": "code",
   "execution_count": null,
   "metadata": {
    "collapsed": false
   },
   "outputs": [],
   "source": [
    "plt.figure()\n",
    "plt.plot(cum_prob, RB_angles)\n",
    "plt.xlabel('cum_prob')\n",
    "plt.ylabel('dihedral')\n",
    "plt.show()"
   ]
  },
  {
   "cell_type": "code",
   "execution_count": null,
   "metadata": {
    "collapsed": false
   },
   "outputs": [],
   "source": [
    "def h_tan(x, a, b, c, d):\n",
    "    return ((a*1.0 + (b * np.tanh(x*np.pi/180.0))) + (c*1.0 + (d * (np.tanh(x*np.pi/180.0)))))"
   ]
  },
  {
   "cell_type": "code",
   "execution_count": null,
   "metadata": {
    "collapsed": false
   },
   "outputs": [],
   "source": [
    "tanh_params, tanh_covar = curve_fit(h_tan, cum_prob, angles)\n",
    "tanh_params"
   ]
  },
  {
   "cell_type": "code",
   "execution_count": null,
   "metadata": {
    "collapsed": false
   },
   "outputs": [],
   "source": [
    "tanh_angles = [h_tan(cum_probs, tanh_params[0], tanh_params[1], tanh_params[2], tanh_params[3]) for cum_probs in cum_prob]"
   ]
  },
  {
   "cell_type": "code",
   "execution_count": null,
   "metadata": {
    "collapsed": false
   },
   "outputs": [],
   "source": [
    "plt.figure()\n",
    "plt.plot(cum_prob, tanh_angles)\n",
    "plt.xlabel('cum_prob')\n",
    "plt.ylabel('dihedral')\n",
    "plt.show()"
   ]
  },
  {
   "cell_type": "code",
   "execution_count": null,
   "metadata": {
    "collapsed": true
   },
   "outputs": [],
   "source": [
    "tanh_vals = [np.tanh(x) for x in cum_prob]"
   ]
  },
  {
   "cell_type": "code",
   "execution_count": null,
   "metadata": {
    "collapsed": false
   },
   "outputs": [],
   "source": [
    "plt.figure()\n",
    "plt.plot(cum_prob, tanh_vals)\n",
    "plt.xlabel('cum_prob')\n",
    "plt.ylabel('dihedral')\n",
    "plt.show()"
   ]
  },
  {
   "cell_type": "code",
   "execution_count": null,
   "metadata": {
    "collapsed": true
   },
   "outputs": [],
   "source": [
    "#from scipy.interpolate import interp1d"
   ]
  },
  {
   "cell_type": "code",
   "execution_count": null,
   "metadata": {
    "collapsed": false
   },
   "outputs": [],
   "source": [
    "angle_map = np.array(zip(cum_prob, angles))\n",
    "#angle_map = interp1d(cum_prob, angles, kind='cubic')"
   ]
  },
  {
   "cell_type": "code",
   "execution_count": null,
   "metadata": {
    "collapsed": true
   },
   "outputs": [],
   "source": [
    "#angle_map = np.array(zip(cum_prob, angles))"
   ]
  },
  {
   "cell_type": "code",
   "execution_count": null,
   "metadata": {
    "collapsed": false
   },
   "outputs": [],
   "source": [
    "#angle_map([0.0])"
   ]
  },
  {
   "cell_type": "code",
   "execution_count": null,
   "metadata": {
    "collapsed": false
   },
   "outputs": [],
   "source": [
    "#angle_map(np.random.uniform(0.0, 1.0, size=(25)))"
   ]
  },
  {
   "cell_type": "code",
   "execution_count": null,
   "metadata": {
    "collapsed": false
   },
   "outputs": [],
   "source": [
    "np.random.randint(0, 3000, size=25)"
   ]
  },
  {
   "cell_type": "raw",
   "metadata": {},
   "source": []
  },
  {
   "cell_type": "markdown",
   "metadata": {},
   "source": [
    "# Build, relax, and sample neutral chain"
   ]
  },
  {
   "cell_type": "code",
   "execution_count": 24,
   "metadata": {
    "collapsed": true
   },
   "outputs": [],
   "source": [
    "from polymer_chain import Polymer"
   ]
  },
  {
   "cell_type": "code",
   "execution_count": 25,
   "metadata": {
    "collapsed": false
   },
   "outputs": [],
   "source": [
    "monomer_num = 25\n",
    "monomer_len = 2.548\n",
    "link_len = 1.480\n",
    "link_angle = 15.0\n",
    "n_prob_angle = angles\n",
    "sample_num = 100"
   ]
  },
  {
   "cell_type": "code",
   "execution_count": 26,
   "metadata": {
    "collapsed": false
   },
   "outputs": [],
   "source": [
    "pt_neutal = Polymer(monomer_num, monomer_len, link_len, link_angle, n_prob_angle, sample_num)"
   ]
  },
  {
   "cell_type": "code",
   "execution_count": 27,
   "metadata": {
    "collapsed": false
   },
   "outputs": [],
   "source": [
    "#pt_neutal.build_chain()\n",
    "#pt_neutal.relax_neutral_chain()"
   ]
  },
  {
   "cell_type": "code",
   "execution_count": 28,
   "metadata": {
    "collapsed": false
   },
   "outputs": [
    {
     "name": "stdout",
     "output_type": "stream",
     "text": [
      "[ 824  290 3003  138  343 1361  128 2050 1057 2641  640 3425  838   86 1224\n",
      "  764 2272 3352 3282  108 3070 2135 3425  466]\n",
      "[1976  586  253 3352 2229 3451  496   36 2026  368 3871  245 2692  160 1779\n",
      " 3408 1421 1314  977 3762  681 1097 1853  569]\n",
      "[2121 2906 3577 1948 1955 1482 1235 1098 2785  700 1896 1407 2817 3588 3278\n",
      " 2570 3406 2594 2134 1490 2628 2501  923 3527]\n",
      "[1629 2116 3108 1968 1068 3679 3592 2264  669 3777 1141 1733 1925 1207 2124\n",
      " 3043 3468 1869 3082 1819  637 1708  912 2824]\n",
      "[ 695 1345 1680 2839 1015 3352 1537 3499 2789 2816 2803 2988 1717 2805 3855\n",
      " 2255 2637 2709 3411 3517 3880  497 2575 1562]\n",
      "[2311 1406 1376  846 2675  825  438 1577   91 1464   13 2896  657  529 2150\n",
      " 3720 1036 3161 2888 1226 1105 2434 1537  653]\n",
      "[3879 2344  217  379   37 3456 3134 1005 2139 2517 1777 2940  430 3901  410\n",
      "  205 1845 1358  342 2106 3765 3003 3987  154]\n",
      "[2107  582 1895 1027  495 2220 3204 3912 3457 3555 3504 2327 1639 3190 2794\n",
      " 2640 2569 1031  418 3478 2944 1878  276 1922]\n",
      "[ 520 3357 2474 1384 2709 1460 3210 3560  124 3251 2114 1680  368  879 3552\n",
      "  588 3944 3363 3950 3262  205 3706 3040  920]\n",
      "[ 629   33 2391 3185 3860  971 2670  570  655 3856  213 1440   89 3354 1561\n",
      "  390 1398  269 1817 3162 1473 2340 1744 3518]\n",
      "[2598 1336 1294  608 2834  801 2245 2986  812 3764 1436 2013  209 3405 2499\n",
      "   17  784  504 2957 1740 3411  138   28 3644]\n",
      "[  95 2093 2477  975 2123 3417 1581  697 3840 2464 1718 1777 2202 1805 2933\n",
      "  378 1908 2236 1938 1385 2813 1985 2982 3292]\n",
      "[2649 1048 1847 3041   40 2880  330 3789 1379  550 1117 1867  269  165 1739\n",
      " 3300 1153 3500 1757 2941 2655 1895   63 1740]\n",
      "[2195 1440 3782 2946 3526 3052 1113 2539 1781 2386 1888 3332 3441  533 1288\n",
      " 3355   58  332 2512 3497 3473  875 2432 3362]\n",
      "[1358 1088 2713 2797 2768 2248 1172  538  112 1189 3866 3010 2970  862 3715\n",
      " 3235 2700 3775  582 1848 2099   27  260 3079]\n",
      "[2204 3260 2792 2701 1148 2268 1598 3885 1074 2664  749 1934 3361  669  574\n",
      " 2857 1488 1757 3131 2357 1815 2095  606 3898]\n",
      "[3145  102 2443 2759  249 3170 2855 1065 2626  469 3833 1946 1967 2604  533\n",
      "  565 1123 1803 1705 1818 1134 3740 1346 2122]\n",
      "[ 422 2034 2090 1525 1894 3834  101  333 3414 1805  886 3536 3037 3579 1051\n",
      "  140 1890 2034 2864 1477  797 1183 1603 2787]\n",
      "[ 897  624 2781  338 2857   76 2331  997 3030 2487 1426   35 3050  517 3154\n",
      " 3157  715 3788 2550 1609  726 1944 1314  614]\n",
      "[1412 3450 2648 3861 1749 2487  604 1816 3031 2081 1481 3413  247 2732  265\n",
      " 1204  288  512 2325 2218 3449  710 3766 2975]\n",
      "[1222  958 2286 2751 3739 1748 3467  212 3680 3315 1896 1276 3226 1484  549\n",
      " 2409   62 1525 3460  971 2350  857 3198 1864]\n",
      "[1320  403 2581 3238 1560 3266 2684 2562  750 2570 1377 2906 1852  567 2286\n",
      " 3250 3435 1461 3026 3080 1893 2503 2376 3747]\n",
      "[2134 1121 1313 2733  618 1468 3618 1166 3982 3941 1902  461 3912 2380 1970\n",
      " 1308 1922  464 3410  955 1709 1088 1899 1796]\n",
      "[2367  664 1060  704  451 2343 3823 1366  180  808  550  853 2457  395 1525\n",
      " 3605 3103 2228 3608 3275 1782  833 2186 2458]\n",
      "[2944 3491 1965  347  555 2554  483 1283 3995  795 1088 3772 2125 3424  458\n",
      " 3006 2064 1785  486  281 2925 3776 2269 1938]\n",
      "[ 379 1252 3924  644 1558  276 3272 2036 2234 3564 1782 1122 1527  554 1743\n",
      " 3129 3922  522 2423 1308 3641 1659 1508 3063]\n",
      "[3727 2678  945 3998 3057 2991 2989  475 2065 1717  419 2352 1849  670 1341\n",
      " 2547 1908 3809 1566 3775 3502  585 2496 2335]\n",
      "[2470 3128 2984 3740  729 3628  614  326 2278 2444 2987 1642   72  414 2593\n",
      " 2638 1508 1528 3264 3639 1077 3398 2440 1469]\n",
      "[ 416 2493 3245  937 2068 3799 3214 1117 2711 2317   15 1999 2453  592 3456\n",
      "  378 3195 1865 1898  270 2620 3403 2197  651]\n",
      "[ 234 1495 1304 2846 2883 2732   18 2760  728 1546 2844  634 2841 2093 1088\n",
      " 1889 2432 2727 2753 2982 3504 2879 3161 3381]\n",
      "[3413 2279 1650 1497 1159  883  151 2830 3986  377 1085    2 2451 2822  275\n",
      " 1644 1038 3607 3164 1387 1671 2582  714 3164]\n",
      "[  24  201  410 1847 3450 1619  640 2729 3402 3511 3033 3579 1875  324 3475\n",
      " 3826 2099  461  525 1403 1405 3258 3727  187]\n",
      "[3877  363 3391 2471 3589 2130 3937 3256 3482 1531 1805 3071 1755  697 1315\n",
      " 3647  787  521 2953  208 3611 2656 3273  160]\n",
      "[3085 1196 1599 1296 1252 1655 2811 2312 3415 1710 2842 2794 2456 2033 1851\n",
      " 1318 3494  813 2985  244 1181 3762 2683 3723]\n",
      "[1193 3910  185 2393  691 1886 3232 2577 3338 2719  267 3777  583 2003 3513\n",
      "  504 3640 1563 2161 3424 3565  461 3538 2136]\n",
      "[2935 3826 2550 3421 3380 3423 3816 1433 1709 3656  738 3788 1258 2758 3293\n",
      "  574 1232  736 3602 1738 1958  719 3771 1531]\n",
      "[ 305 1205 1952 1654 3499 2543  940 3220 1184  935 2570  639 2316 1197 2383\n",
      " 3818  974 2593  127  628 3751 2053 2734 2961]\n",
      "[ 418   71  343 3742 1036 2561 2959 2936  359 3995  105 2985 3927 1678 3708\n",
      "  255 2066 2092 3164 3477   69 1276  921 2952]\n",
      "[2530 1847 3148 3827 2654 1590  831 2609 1802 1345 2748 2623 3922   43 3786\n",
      " 2889  357 3650 3489 3481 1901 1273 2967  983]\n",
      "[ 668 2408 3848 1482 3448  453 1151  446 1607  664 3160 3584 1384 1089 1808\n",
      " 2591 2277  134 3449 3830  898   37 2380 3201]\n",
      "[1511 3852  514  386  527 1890  161 3986  176 1014  952  310 1797 3287 3643\n",
      " 3505 3110 2524 3654 3427 1383 2479 2074 3893]\n",
      "[1705 3624 3320  874 3496  776 1082 2522 1069 1713 1957 2955 2758 3630  475\n",
      " 1684 3739 2198 2332 3707 3046 3036  817 1308]\n",
      "[2603 1327  894  175 1260 2876 1911 3847  177 1433 2274 2156 1629  806 1311\n",
      "  525 1663 2446 1221 2752    5 1422 2224 2807]\n",
      "[1978 1599 1838 3800   89 1361 3678  472 3749  475 1936 1451 3799   32 3184\n",
      " 2876 1000 3586 3946 3633  197 1817 2105 1317]\n",
      "[ 174 1404 2521 1779 2852  972 2466  900 1989 2195 1008 1293  960 1796  331\n",
      "  993 3310  187 1098 1629  700  941  133  297]\n",
      "[3365  935  870 2356 1088  199 3106 2130 2768 2826 3661 3836 2893 3939 2253\n",
      " 3288 1136  204 3276 3936 2329  172 2580 1859]\n",
      "[1317  100  138  607 2614 3078 1255 1825 2260  445 3206  804 2494    9 1456\n",
      " 1216 2254  415  342  758  979  296 1820 2653]\n",
      "[ 187  464 2871  517 2797 2165 3463 3426 3187  703 3044 3283  874 2222 3904\n",
      "  988    3 2061 1428 1856 3211 3139  974 3003]\n",
      "[3003 2708 2982 3108  213 2971 3866  953 1656 3190 2761 1209 3956  832  803\n",
      "  640 1114 2879 2380 3942  383  558 2217 1911]\n",
      "[1592 1745 3751 2026 2601 1952 3518    2 3651 2930 2461 3673  953 2938 3365\n",
      " 1594 3166 1719  318  134 1812 2869 1814 2684]\n",
      "[ 352 2441 3923 2546 3000 1112 2804 3665  676 1432 1453 2987 3732 1040 1580\n",
      " 2632 1205 1727 2676 1905  822 3329 3466 3417]\n",
      "[ 887 2443 2547 2831 2897 1592 3515 1254 1187 2320 3697 1595 2416 1990 1621\n",
      " 1688   98 3129 2150  482  839   10 1186 1658]\n",
      "[3956  455 1311    4 3073   64 1433   43 2769  793 1625 3741  784 1701 1100\n",
      " 2972 3620   49 2836 3773 2028 2211 1620 3184]\n",
      "[2986 2274 3638 1989  999 3757  549 1186 1595 1616 3242 3149 1310 1743 3383\n",
      " 2679 3546 1481 1034  233 3001 3843 1907 2639]\n",
      "[2954 3703 3501  503  149 3666 3111 3977 3044 1053 2602 2936 1231 1312 2634\n",
      " 3040 3748 2253 1113 2270  269 1864 3053  398]\n",
      "[2464 2842 1004 1310 2157  281 3177   13  230 1514  379 1277 2145 3897 2989\n",
      "  970 1430 3887 3192 3434 2372 1774 1267 3151]\n",
      "[ 423 2923 3237  579 2766  955  844 1374 3190 1310 3102 3601 2545 1534 3928\n",
      " 3132 2842   37  588 1636 2441 2507 1636  381]\n",
      "[1830  237   22 1331 3737 1175 1738 2198 1544  684  619 1469 1830  920 3844\n",
      "  589 2957  965 3695  624 1429 3053 3492 2758]\n",
      "[3962 2423  357 1480  658  472 1779  797 2842  476 1507  878  242  156 1910\n",
      "  741 1592 3614 1151 2210 1464 1906 2516 2441]\n",
      "[1005 3810 1065  351  650  813 3088  759 3012 2416  546 3647  578 2434  352\n",
      " 3630  738 1381 3894 2110  836  594 3369 1658]\n",
      "[3259 1978  182 2332  603 2031 2980 3269 1658 2545 3098 1273 1526 3716 2430\n",
      " 2970  582 3778 3510 1572 1084 3039  720 2310]\n",
      "[3447 2717  518  717 2505  682 2852 2101 2520 2269 2786 3507 3118 3895 1321\n",
      "  543  833  553  160 1102 2354  363 1287 3994]\n",
      "[1961 1714 1725 3253 3284 3430 1077 3845 2297 3979  826 1106   67  830 2309\n",
      " 1117 2277  784 2123 1037 1356 3437  704 2547]\n",
      "[2298 1364 2450 2306  960  453  725 3751 2234 2184 2037 3221  159  707  564\n",
      " 1034 3370  945 2571 3928 3854 3847  306 1739]\n",
      "[3020 2115 2253 2785 1647 3579 1942 2117  479 2224  351 3111 1274 3749 2834\n",
      " 3655 2995  559  319 1707 3416 1688 1385 2621]\n",
      "[1294  382  250 2559  110 2899  325 3019 2626 1012 3222 3757 2255 1650  228\n",
      "  825 1812 3591 3321  681 3505 1301 2213 2068]\n",
      "[  23 1884  500  240 2837 3659 1134 1488 3398  695 3407 1507  244 2472  526\n",
      "  345 1138 3999  119 2741  946  589 1973  776]\n",
      "[3550  382 3764 1434  654 2317 3328 2756 1208  481 3756 1666 2801 3984 2590\n",
      " 2335 3843 2808 1101  397 1595 2647 2945 3984]\n",
      "[1152 1421 2586 3903  643 1023 3862 3527 3545 3994 1906 1150 1909 1900 2907\n",
      " 1919 3998 1505  564 3197 3726 1182  271 2922]\n",
      "[3130 2542 3438 3990  488  484  227 2348  216 2888 1209 1188  523  812 1915\n",
      " 2182 3335 3643 3440 1046 2089 2495  406 3504]\n",
      "[2017 3937 1549 3449 2131  541 3185  276 3749 1994 1023 1903 2299 2325 3619\n",
      " 1254 2944  173 3525 2089 2219 3604 2438 1498]\n",
      "[3628 2190 3248 1032  530 1209 2382 3889 1344  844 3535  386  523 3744  448\n",
      "  417 3565 1878 1993 1522 1800 2232  175 3039]\n",
      "[1696 3494 3995  538 2407 3756 3936 3112  849  750  958 1731  326 1280 2226\n",
      " 1584  434 3251 2794 1538 3692 1114 2783 2979]\n",
      "[2432 2636  520 3265 1621 2893  759  257 1284 3114 2400 3438 2669 1827 2836\n",
      " 3528  691 3771 3367  917 1556 2070 1659  641]\n",
      "[1169 1577  252 3252 3236 3941 1979 1097  686 3416 1320 2070 1495 2140 2169\n",
      " 2089 1617 2023  774 2704 2218 3330  925  128]\n",
      "[ 750 1681 2350 3553 3342 3706 3976 1218  903  365 3399 3726 2383   86  550\n",
      " 3550 3011 3502  818 3130  814 3287 1199  514]\n",
      "[1138  442  879 3910 1051 3124 3154  330 3242 2775  743  118 3414 3232 2800\n",
      "  342  690 2769 1164 1667 3391 1795 2142 2358]\n",
      "[3714   71 1279 1161  674 2206  298 3597 2837 3169    5 2926  628 2572 3387\n",
      " 1693 1277 2995 2699 2249 1888 3905 1583 2157]\n",
      "[2989  560 3267  729 2896 3650 1810 3860 3572 2307 1571 2176 1051 3367 1875\n",
      " 3066 1902  313  970  892  262 1582 3255 2382]\n",
      "[1100 3721  910 3892 1161 1384 3417 2286 3339  417 1599   89 3713 2507 1812\n",
      "  604 3028 2665 3346  963 1399 2630 2946 1399]\n",
      "[ 103 2280 2675 2328 3738  167   13 1461 3659 3696  351  898  180  416 2216\n",
      " 2712 2844 1998  847 2346 1690  198 1684 1174]\n",
      "[ 185  829 2912 3599 2814 3738  233 1383 3323 2262 2905  108  273 1414 1828\n",
      " 1177  144 3163  359 3094 3322  588  256 1734]\n",
      "[ 862 3585 1526 1867 2423 2944  727  182 3379  929  905 1352 2555  506  374\n",
      " 1263  681  595 1249 1417  492  563 1566  661]\n",
      "[ 611 3936 3917 2228 3673 3983  265   30 1312 1430 1896 1550   21 3639 2979\n",
      " 2302 1663 1314 3845  280 3651 3518  722 2441]\n",
      "[1244 2747 3267 3871 3806 3634 1753  678 1052 2289 3892 3985  990 2228 2790\n",
      " 3434 1961 2769 1079 3362 2289 2791 3643  358]\n",
      "[2266 3666 3634 3780  816  935 2673 3508 3390  861  200 2581 2799 2080  918\n",
      " 2866 3252  171 3921  538 2180 3231 2009 3829]\n",
      "[3480 3850 2514 3004 1906 1481 1133 1056 3147 1235 3439 2093 1713  898 1279\n",
      " 2821 2280   57 3184 1673 3249  420  780  565]\n",
      "[2257 3252  690  764 1944  106 1117 1968 1890 3291 1890 1950 3825 3774 3546\n",
      " 1920 2309 1143 3703 2407 3890 1635 3392 2440]\n",
      "[1971 2308 1121  771  917 2609 1351 3962 2816 2620 3994   91 2047 3823 3855\n",
      " 3893 3912 1519 2930 3420 3725 2087 1523 1631]\n",
      "[2080  977  460  328   66 1742 3430  596 3971  957 2779  353 2277  999  643\n",
      "  568 2214 3600 3627 2763 1659 3567 2377 3984]\n",
      "[3677  646   54  844 3483 3359  168  529 3876 1734 2002  785 2400  564  375\n",
      " 3912  342 1901  406 1880 1270 3371 2196 2887]\n",
      "[3432 3547 1182 3307 3739 3938 1065 3554 1936 3951 2487  412 2312  471  316\n",
      " 3604  215 1085  702  427 2511 3378 1300  110]\n",
      "[3592 2612 2221 2642  905 3978 3738 3009 3988   15  690 2707  596 1042 2589\n",
      "  153  389 2413 1338 3116 2806  400 1133 1477]\n",
      "[3178 3185 2221 1801 2129  430  989 2879  209 1248 3999 3990 1583 2560 3835\n",
      " 1650 2356 3014 2476  272 1158 1221 3018 2382]\n",
      "[1539  190  742 2938  626 1384 2008 1172  532 1895 2662  723 1140 2175 1673\n",
      " 1681  871 1907 1989 2729  986 1126 2677 1456]\n",
      "[2981 1808 2937 3029  688  990  779 1937 2308  681 3165 1186 2447 3186 1859\n",
      " 2388 1801  386 1631 2345  443   56 3550 1177]\n",
      "[ 224 1465 2815 2863  770  242 1088 1069  966 3659  152 1813 1978 1895  210\n",
      " 2339 3562 2821 1203 3502  432 3337 1412  940]\n",
      "[1345 1531  767 2092  969 3151 3582 3141   21 2053 2487 3965 2999 3964 1791\n",
      " 2927  630  784  262 2488  202 3707   37 3586]\n",
      "[2601 1561 2636 3104   11  297 2458  105 3765 3744 3114 1854   17 1366  916\n",
      "  480 3566  346 2089 1620  432 2924  139 2675]\n",
      "[1716 2996 3604 1287 1841 1643 2273 3219  349 2749 2965  111 2943 1586  774\n",
      "   30 3079 2079 3216 2070 2719 1476  856 1341]\n"
     ]
    }
   ],
   "source": [
    "ave_ete, ave_corr = pt_neutal.sample_neutral_chains()"
   ]
  },
  {
   "cell_type": "code",
   "execution_count": null,
   "metadata": {
    "collapsed": false
   },
   "outputs": [],
   "source": [
    "plt.figure()\n",
    "plt.plot(range(0, monomer_num + 1, 1), ave_ete)\n",
    "plt.xlabel('number of monomers')\n",
    "plt.ylabel('average end_to_end distance')\n",
    "plt.show()"
   ]
  },
  {
   "cell_type": "code",
   "execution_count": null,
   "metadata": {
    "collapsed": false
   },
   "outputs": [],
   "source": [
    "ave_ete"
   ]
  },
  {
   "cell_type": "code",
   "execution_count": null,
   "metadata": {
    "collapsed": false
   },
   "outputs": [],
   "source": [
    "plt.figure()\n",
    "plt.plot(range(0, monomer_num + 1, 1), ((ave_ete * ave_ete)*0.01))\n",
    "plt.xlabel('number of monomers')\n",
    "plt.ylabel('average end_to_end distance')\n",
    "plt.show()"
   ]
  },
  {
   "cell_type": "code",
   "execution_count": null,
   "metadata": {
    "collapsed": false
   },
   "outputs": [],
   "source": [
    "plt.figure()\n",
    "plt.plot(range(0, monomer_num, 1), ave_corr)\n",
    "plt.xlabel('number of monomers')\n",
    "plt.ylabel('correlation')\n",
    "plt.show()"
   ]
  },
  {
   "cell_type": "code",
   "execution_count": null,
   "metadata": {
    "collapsed": false,
    "scrolled": true
   },
   "outputs": [],
   "source": [
    "plt.figure()\n",
    "plt.plot(range(0, monomer_num, 1), np.log(ave_corr))\n",
    "plt.xlabel('number of monomers')\n",
    "plt.ylabel('correlation')\n",
    "plt.show()"
   ]
  },
  {
   "cell_type": "markdown",
   "metadata": {},
   "source": [
    "# Timeit"
   ]
  },
  {
   "cell_type": "code",
   "execution_count": null,
   "metadata": {
    "collapsed": true
   },
   "outputs": [],
   "source": [
    "%load_ext line_profiler"
   ]
  },
  {
   "cell_type": "code",
   "execution_count": null,
   "metadata": {
    "collapsed": false
   },
   "outputs": [],
   "source": [
    "%prun pt_neutal.relax_neutral_chain()"
   ]
  },
  {
   "cell_type": "code",
   "execution_count": 65,
   "metadata": {
    "collapsed": true
   },
   "outputs": [],
   "source": [
    "a = 0.0\n",
    "b = 1.0\n",
    "c = 0.0\n",
    "d = 2.0\n",
    "x_vals = np.linspace(-4.0, 4.0, 100)\n",
    "tan_vals = [((a + b*np.tanh(1+x)) + (c + d*np.tanh(1+x))) for x in x_vals]"
   ]
  },
  {
   "cell_type": "code",
   "execution_count": 66,
   "metadata": {
    "collapsed": false
   },
   "outputs": [
    {
     "data": {
      "image/png": "[encoded data removed]",
      "text/plain": [
       "<matplotlib.figure.Figure at 0x1170fd110>"
      ]
     },
     "metadata": {},
     "output_type": "display_data"
    }
   ],
   "source": [
    "plt.figure()\n",
    "plt.plot(x_vals, tan_vals)\n",
    "plt.xlim(-4.0, 4.0)\n",
    "plt.ylim(-4.0, 4.0)\n",
    "plt.show()"
   ]
  },
  {
   "cell_type": "code",
   "execution_count": null,
   "metadata": {
    "collapsed": true
   },
   "outputs": [],
   "source": []
  }
 ],
 "metadata": {
  "kernelspec": {
   "display_name": "Python 2",
   "language": "python",
   "name": "python2"
  },
  "language_info": {
   "codemirror_mode": {
    "name": "ipython",
    "version": 2
   },
   "file_extension": ".py",
   "mimetype": "text/x-python",
   "name": "python",
   "nbconvert_exporter": "python",
   "pygments_lexer": "ipython2",
   "version": "2.7.10"
  }
 },
 "nbformat": 4,
 "nbformat_minor": 0
}
