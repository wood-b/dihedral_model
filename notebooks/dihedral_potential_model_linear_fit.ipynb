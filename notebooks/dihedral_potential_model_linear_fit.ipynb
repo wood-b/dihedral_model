{
 "cells": [
  {
   "cell_type": "code",
   "execution_count": 1,
   "metadata": {
    "collapsed": true
   },
   "outputs": [],
   "source": [
    "import numpy as np\n",
    "from pymatgen import Molecule\n",
    "from pymatgen.io.qchem import QcTask, QcOutput\n",
    "import math"
   ]
  },
  {
   "cell_type": "markdown",
   "metadata": {},
   "source": [
    "# Get dihedral angle and energy from qchem files"
   ]
  },
  {
   "cell_type": "code",
   "execution_count": 2,
   "metadata": {
    "collapsed": true
   },
   "outputs": [],
   "source": [
    "import os \n",
    "import re"
   ]
  },
  {
   "cell_type": "code",
   "execution_count": 3,
   "metadata": {
    "collapsed": true
   },
   "outputs": [],
   "source": [
    "# this is not placed in utils yet because error checking hasn't been finalized\n",
    "def get_energy_dihedral(directory):\n",
    "    dihedral, energy = [], []\n",
    "    for f in os.listdir(directory):\n",
    "        if \".qcout\" in f:\n",
    "            if \".orig\" not in f:\n",
    "                output = QcOutput('{d}/{f}'.format(d=directory,f=f))\n",
    "                qchem_in = output.data[-1]['input']\n",
    "                try:\n",
    "                    energy.append(output.final_energy)\n",
    "                except IndexError:\n",
    "                    energy.append('no energy') \n",
    "                constraints = qchem_in.params['opt']\n",
    "                for l in constraints:\n",
    "                    if 'tors' in l:\n",
    "                        dihedral.append(l[len(l)-1])\n",
    "    return dihedral, energy"
   ]
  },
  {
   "cell_type": "code",
   "execution_count": 4,
   "metadata": {
    "collapsed": true
   },
   "outputs": [],
   "source": [
    "dihedral, energy = get_energy_dihedral('./pt_cust_dft_full')"
   ]
  },
  {
   "cell_type": "markdown",
   "metadata": {},
   "source": [
    "# Fit and plot dihedral potential"
   ]
  },
  {
   "cell_type": "code",
   "execution_count": 5,
   "metadata": {
    "collapsed": true
   },
   "outputs": [],
   "source": [
    "import matplotlib.pyplot as plt\n",
    "%matplotlib inline"
   ]
  },
  {
   "cell_type": "code",
   "execution_count": 6,
   "metadata": {
    "collapsed": true
   },
   "outputs": [],
   "source": [
    "from scipy.optimize import curve_fit"
   ]
  },
  {
   "cell_type": "code",
   "execution_count": 7,
   "metadata": {
    "collapsed": true
   },
   "outputs": [],
   "source": [
    "# Ryckaert_Bellemans dihedral potential function\n",
    "def RB_potential(x, a, b, c, d, e, f):\n",
    "    return (a*1.0 + b*np.cos(x*np.pi/180.0) \n",
    "            + c*(np.cos(x*np.pi/180.0)**2) \n",
    "            + d*(np.cos(x*np.pi/180.0)**3) \n",
    "            + e*(np.cos(x*np.pi/180.0)**4) \n",
    "            + f*(np.cos(x*np.pi/180.0)**5))"
   ]
  },
  {
   "cell_type": "code",
   "execution_count": 8,
   "metadata": {
    "collapsed": true
   },
   "outputs": [],
   "source": [
    "import utils"
   ]
  },
  {
   "cell_type": "code",
   "execution_count": 9,
   "metadata": {
    "collapsed": true
   },
   "outputs": [],
   "source": [
    "rel_eV_energy = utils.relative_energy(energy)"
   ]
  },
  {
   "cell_type": "code",
   "execution_count": 10,
   "metadata": {
    "collapsed": true
   },
   "outputs": [],
   "source": [
    "fit_params, fit_covar = curve_fit(RB_potential,dihedral,rel_eV_energy)"
   ]
  },
  {
   "cell_type": "code",
   "execution_count": 11,
   "metadata": {
    "collapsed": true
   },
   "outputs": [],
   "source": [
    "# create list of angles and corresponding energies\n",
    "angles = np.linspace(-170, 180, 1080)\n",
    "RB_energy = [RB_potential(angle, fit_params[0], fit_params[1], \n",
    "                          fit_params[2], fit_params[3], fit_params[4], \n",
    "                          fit_params[5]) for angle in angles]"
   ]
  },
  {
   "cell_type": "code",
   "execution_count": 12,
   "metadata": {
    "collapsed": false,
    "scrolled": true
   },
   "outputs": [
    {
     "data": {
      "image/png": "[encoded data removed]",
      "text/plain": [
       "<matplotlib.figure.Figure at 0x108f3eb10>"
      ]
     },
     "metadata": {},
     "output_type": "display_data"
    }
   ],
   "source": [
    "plt.figure()\n",
    "plt.plot(dihedral, rel_eV_energy, 'o', angles, RB_energy, 'black')\n",
    "plt.xlabel('Dihedral angle')\n",
    "plt.ylabel('Relative eV')\n",
    "plt.show()"
   ]
  },
  {
   "cell_type": "code",
   "execution_count": 13,
   "metadata": {
    "collapsed": false
   },
   "outputs": [
    {
     "data": {
      "text/plain": [
       "array([ 0.09589618,  0.00937093, -0.21725121,  0.00549039,  0.14653387,\n",
       "        0.00507763])"
      ]
     },
     "execution_count": 13,
     "metadata": {},
     "output_type": "execute_result"
    }
   ],
   "source": [
    "fit_params"
   ]
  },
  {
   "cell_type": "markdown",
   "metadata": {},
   "source": [
    "# Boltzmann distribution"
   ]
  },
  {
   "cell_type": "code",
   "execution_count": 14,
   "metadata": {
    "collapsed": true
   },
   "outputs": [],
   "source": [
    "# kbT in eV/KS\n",
    "kb_eV_K = 8.6173324 * 10**-5"
   ]
  },
  {
   "cell_type": "code",
   "execution_count": 15,
   "metadata": {
    "collapsed": true
   },
   "outputs": [],
   "source": [
    "kbT700 = kb_eV_K * 700.0\n",
    "kbT300 = kb_eV_K * 300.0"
   ]
  },
  {
   "cell_type": "code",
   "execution_count": 16,
   "metadata": {
    "collapsed": true
   },
   "outputs": [],
   "source": [
    "# normalization \n",
    "boltz_factor_700 = [np.exp(-energy / kbT700) for energy in RB_energy]\n",
    "normalize_val = sum(boltz_factor_700)"
   ]
  },
  {
   "cell_type": "code",
   "execution_count": 17,
   "metadata": {
    "collapsed": true
   },
   "outputs": [],
   "source": [
    "prob_700 = [(np.exp(-energy / kbT700) / normalize_val) for energy in RB_energy]"
   ]
  },
  {
   "cell_type": "code",
   "execution_count": 18,
   "metadata": {
    "collapsed": false
   },
   "outputs": [
    {
     "data": {
      "image/png": "[encoded data removed]",
      "text/plain": [
       "<matplotlib.figure.Figure at 0x10486e510>"
      ]
     },
     "metadata": {},
     "output_type": "display_data"
    }
   ],
   "source": [
    "plt.figure()\n",
    "plt.plot(angles, prob_700)\n",
    "plt.xlabel('Diheadral angle')\n",
    "plt.ylabel('Probability')\n",
    "plt.show()"
   ]
  },
  {
   "cell_type": "markdown",
   "metadata": {},
   "source": [
    "# Map dihedral angles to random numbers between 0-1"
   ]
  },
  {
   "cell_type": "code",
   "execution_count": 19,
   "metadata": {
    "collapsed": true
   },
   "outputs": [],
   "source": [
    "cum_prob = [sum(prob_700[0:prob_i]) for prob_i in range(len(prob_700))]"
   ]
  },
  {
   "cell_type": "code",
   "execution_count": 20,
   "metadata": {
    "collapsed": false
   },
   "outputs": [
    {
     "data": {
      "image/png": "[encoded data removed]",
      "text/plain": [
       "<matplotlib.figure.Figure at 0x10913ebd0>"
      ]
     },
     "metadata": {},
     "output_type": "display_data"
    }
   ],
   "source": [
    "plt.figure()\n",
    "plt.plot(cum_prob, angles)\n",
    "plt.xlabel('Cumulative probability')\n",
    "plt.ylabel('Dihedral angle')\n",
    "plt.show()"
   ]
  },
  {
   "cell_type": "code",
   "execution_count": 21,
   "metadata": {
    "collapsed": true
   },
   "outputs": [],
   "source": [
    "from scipy.interpolate import interp1d"
   ]
  },
  {
   "cell_type": "code",
   "execution_count": 22,
   "metadata": {
    "collapsed": true
   },
   "outputs": [],
   "source": [
    "angle_map = zip(cum_prob, angles)\n",
    "angle_map = interp1d(cum_prob, angles, kind='cubic')"
   ]
  },
  {
   "cell_type": "markdown",
   "metadata": {},
   "source": [
    "# Build, relax, and sample neutral chain"
   ]
  },
  {
   "cell_type": "code",
   "execution_count": 23,
   "metadata": {
    "collapsed": true
   },
   "outputs": [],
   "source": [
    "from polymer_chain import Polymer"
   ]
  },
  {
   "cell_type": "code",
   "execution_count": 24,
   "metadata": {
    "collapsed": false
   },
   "outputs": [],
   "source": [
    "monomer_num = 25\n",
    "monomer_len = 2.548\n",
    "link_len = 1.480\n",
    "link_angle = 15.0\n",
    "dihedral_set = angle_map(np.random.uniform(0,1, size=(monomer_num-1)))\n",
    "sample_num = 10000"
   ]
  },
  {
   "cell_type": "code",
   "execution_count": 25,
   "metadata": {
    "collapsed": false
   },
   "outputs": [],
   "source": [
    "pt_neutal = Polymer(monomer_num, monomer_len, link_len, link_angle, dihedral_set, sample_num)"
   ]
  },
  {
   "cell_type": "code",
   "execution_count": 26,
   "metadata": {
    "collapsed": false
   },
   "outputs": [],
   "source": [
    "ave_ete, ave_corr = pt_neutal.sample_neutral_chains()"
   ]
  },
  {
   "cell_type": "code",
   "execution_count": 27,
   "metadata": {
    "collapsed": false
   },
   "outputs": [
    {
     "data": {
      "image/png": "[encoded data removed]",
      "text/plain": [
       "<matplotlib.figure.Figure at 0x1093656d0>"
      ]
     },
     "metadata": {},
     "output_type": "display_data"
    }
   ],
   "source": [
    "plt.figure()\n",
    "plt.plot(range(0, monomer_num + 1, 1), ave_ete)\n",
    "plt.xlabel('number of monomers')\n",
    "plt.ylabel('average end_to_end distance')\n",
    "plt.show()"
   ]
  },
  {
   "cell_type": "code",
   "execution_count": 28,
   "metadata": {
    "collapsed": false
   },
   "outputs": [],
   "source": [
    "#%timeit pt_neutal.sample_neutral_chains()"
   ]
  },
  {
   "cell_type": "code",
   "execution_count": 29,
   "metadata": {
    "collapsed": true
   },
   "outputs": [],
   "source": [
    "#1 loop, best of 3: 667 ms per loop"
   ]
  },
  {
   "cell_type": "code",
   "execution_count": 30,
   "metadata": {
    "collapsed": false
   },
   "outputs": [
    {
     "data": {
      "text/plain": [
       "array([  0.        ,   2.548     ,   6.46975014,  10.2029984 ,\n",
       "        13.76640663,  17.1706266 ,  20.4249298 ,  23.53807459,\n",
       "        26.51810258,  29.3725167 ,  32.10900983,  34.73475575,\n",
       "        37.25743619,  39.68379036,  42.02225879,  44.27259483,\n",
       "        46.43939949,  48.5263327 ,  50.53836706,  52.48557455,\n",
       "        54.37137703,  56.20039713,  57.97893945,  59.70791859,\n",
       "        61.39098616,  63.02765799])"
      ]
     },
     "execution_count": 30,
     "metadata": {},
     "output_type": "execute_result"
    }
   ],
   "source": [
    "ave_ete"
   ]
  },
  {
   "cell_type": "code",
   "execution_count": 31,
   "metadata": {
    "collapsed": true
   },
   "outputs": [],
   "source": [
    "# array([  0.        ,   2.548     ,   6.46982458,  10.19999563,\n",
    "        #13.75767345,  17.15417029,  20.39533452,  23.50273109,\n",
    "        #26.47750789,  29.33536897,  32.11542456,  34.79554421,\n",
    "        #37.34805674,  39.83675646,  42.2354071 ,  44.55479335,\n",
    "        #46.80223247,  49.02154735,  51.14895552,  53.16663125,\n",
    "        #55.14798765,  57.06367487,  58.90902885,  60.68290171,\n",
    "        #62.34887949,  64.01163214])"
   ]
  },
  {
   "cell_type": "code",
   "execution_count": 32,
   "metadata": {
    "collapsed": false
   },
   "outputs": [
    {
     "data": {
      "image/png": "[encoded data removed]",
      "text/plain": [
       "<matplotlib.figure.Figure at 0x1018cfa90>"
      ]
     },
     "metadata": {},
     "output_type": "display_data"
    }
   ],
   "source": [
    "plt.figure()\n",
    "plt.plot(range(0, monomer_num + 1, 1), ((ave_ete * ave_ete)*0.01))\n",
    "plt.xlabel('number of monomers')\n",
    "plt.ylabel('average end_to_end distance')\n",
    "plt.show()"
   ]
  },
  {
   "cell_type": "code",
   "execution_count": 33,
   "metadata": {
    "collapsed": false
   },
   "outputs": [
    {
     "name": "stdout",
     "output_type": "stream",
     "text": [
      "[0, 2, 4, 6, 8]\n"
     ]
    }
   ],
   "source": [
    "print range(0, 10, 2)"
   ]
  },
  {
   "cell_type": "code",
   "execution_count": 34,
   "metadata": {
    "collapsed": false
   },
   "outputs": [
    {
     "data": {
      "text/plain": [
       "4"
      ]
     },
     "execution_count": 34,
     "metadata": {},
     "output_type": "execute_result"
    }
   ],
   "source": [
    "tt = [10, 6, 7, 3]\n",
    "len(tt)"
   ]
  },
  {
   "cell_type": "code",
   "execution_count": 35,
   "metadata": {
    "collapsed": false
   },
   "outputs": [
    {
     "name": "stdout",
     "output_type": "stream",
     "text": [
      "[0, 2]\n"
     ]
    }
   ],
   "source": [
    "print range(0, 4, 2)"
   ]
  },
  {
   "cell_type": "code",
   "execution_count": 36,
   "metadata": {
    "collapsed": false
   },
   "outputs": [
    {
     "data": {
      "image/png": "[encoded data removed]",
      "text/plain": [
       "<matplotlib.figure.Figure at 0x10279ac10>"
      ]
     },
     "metadata": {},
     "output_type": "display_data"
    }
   ],
   "source": [
    "plt.figure()\n",
    "plt.plot(range(0, monomer_num, 1), ave_corr)\n",
    "plt.xlabel('number of monomers')\n",
    "plt.ylabel('correlation')\n",
    "plt.show()"
   ]
  },
  {
   "cell_type": "code",
   "execution_count": 37,
   "metadata": {
    "collapsed": false
   },
   "outputs": [
    {
     "data": {
      "image/png": "[encoded data removed]",
      "text/plain": [
       "<matplotlib.figure.Figure at 0x10196ad50>"
      ]
     },
     "metadata": {},
     "output_type": "display_data"
    }
   ],
   "source": [
    "plt.figure()\n",
    "plt.plot(range(0, monomer_num, 1), np.log(ave_corr))\n",
    "plt.xlabel('number of monomers')\n",
    "plt.ylabel('correlation')\n",
    "plt.show()"
   ]
  },
  {
   "cell_type": "code",
   "execution_count": 38,
   "metadata": {
    "collapsed": true
   },
   "outputs": [],
   "source": [
    "ln_corr = np.log(ave_corr)"
   ]
  },
  {
   "cell_type": "code",
   "execution_count": 39,
   "metadata": {
    "collapsed": false
   },
   "outputs": [
    {
     "data": {
      "text/plain": [
       "0.14183918929641665"
      ]
     },
     "execution_count": 39,
     "metadata": {},
     "output_type": "execute_result"
    }
   ],
   "source": [
    "ln_corr[24] / -24.0"
   ]
  },
  {
   "cell_type": "code",
   "execution_count": 40,
   "metadata": {
    "collapsed": false
   },
   "outputs": [
    {
     "data": {
      "text/plain": [
       "array([-0.14651528,  0.0791921 ])"
      ]
     },
     "execution_count": 40,
     "metadata": {},
     "output_type": "execute_result"
    }
   ],
   "source": [
    "np.polyfit(range(0, monomer_num, 1), ln_corr, 1)"
   ]
  },
  {
   "cell_type": "code",
   "execution_count": 41,
   "metadata": {
    "collapsed": false
   },
   "outputs": [
    {
     "data": {
      "text/plain": [
       "6.813712023094667"
      ]
     },
     "execution_count": 41,
     "metadata": {},
     "output_type": "execute_result"
    }
   ],
   "source": [
    "-1. / -0.14676288"
   ]
  },
  {
   "cell_type": "code",
   "execution_count": 42,
   "metadata": {
    "collapsed": false
   },
   "outputs": [
    {
     "data": {
      "text/plain": [
       "2.7227388832925596"
      ]
     },
     "execution_count": 42,
     "metadata": {},
     "output_type": "execute_result"
    }
   ],
   "source": [
    "6.813712023094667 * 0.399597"
   ]
  },
  {
   "cell_type": "code",
   "execution_count": 43,
   "metadata": {
    "collapsed": false
   },
   "outputs": [],
   "source": [
    "charged_fit_params = np.array([ 0.52573396,  0.0170634 , -0.82161005,  0.00157422,  0.32503028,\n",
    "        0.00441117])"
   ]
  },
  {
   "cell_type": "code",
   "execution_count": 51,
   "metadata": {
    "collapsed": true
   },
   "outputs": [],
   "source": [
    "new_fit_params = (fit_params + charged_fit_params) / 2"
   ]
  },
  {
   "cell_type": "code",
   "execution_count": 52,
   "metadata": {
    "collapsed": false
   },
   "outputs": [
    {
     "data": {
      "text/plain": [
       "array([ 0.31081507,  0.01321716, -0.51943063,  0.0035323 ,  0.23578208,\n",
       "        0.0047444 ])"
      ]
     },
     "execution_count": 52,
     "metadata": {},
     "output_type": "execute_result"
    }
   ],
   "source": [
    "new_fit_params"
   ]
  },
  {
   "cell_type": "code",
   "execution_count": 53,
   "metadata": {
    "collapsed": true
   },
   "outputs": [],
   "source": [
    "# create list of angles and corresponding energies\n",
    "angles = np.linspace(-170, 180, 1080)\n",
    "interp_energy = [RB_potential(angle, new_fit_params[0], new_fit_params[1], \n",
    "                          new_fit_params[2], new_fit_params[3], new_fit_params[4], \n",
    "                          new_fit_params[5]) for angle in angles]"
   ]
  },
  {
   "cell_type": "code",
   "execution_count": 56,
   "metadata": {
    "collapsed": false
   },
   "outputs": [
    {
     "data": {
      "image/png": "[encoded data removed]",
      "text/plain": [
       "<matplotlib.figure.Figure at 0x10900d790>"
      ]
     },
     "metadata": {},
     "output_type": "display_data"
    }
   ],
   "source": [
    "plt.figure()\n",
    "plt.plot(angles, interp_energy, 'blue', angles, RB_energy, 'black')\n",
    "plt.xlabel('Dihedral angle')\n",
    "plt.ylabel('Relative eV')\n",
    "plt.show()"
   ]
  },
  {
   "cell_type": "code",
   "execution_count": null,
   "metadata": {
    "collapsed": true
   },
   "outputs": [],
   "source": []
  }
 ],
 "metadata": {
  "kernelspec": {
   "display_name": "Python 2",
   "language": "python",
   "name": "python2"
  },
  "language_info": {
   "codemirror_mode": {
    "name": "ipython",
    "version": 2
   },
   "file_extension": ".py",
   "mimetype": "text/x-python",
   "name": "python",
   "nbconvert_exporter": "python",
   "pygments_lexer": "ipython2",
   "version": "2.7.10"
  }
 },
 "nbformat": 4,
 "nbformat_minor": 0
}
