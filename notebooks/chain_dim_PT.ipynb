{
 "cells": [
  {
   "cell_type": "code",
   "execution_count": 1,
   "metadata": {
    "collapsed": false
   },
   "outputs": [],
   "source": [
    "import numpy as np\n",
    "from pymatgen import Molecule\n",
    "from pymatgen.io.qchem import QcTask, QcOutput\n",
    "import math"
   ]
  },
  {
   "cell_type": "markdown",
   "metadata": {},
   "source": [
    "# Extract dihedrals and energy from qchem files"
   ]
  },
  {
   "cell_type": "code",
   "execution_count": 2,
   "metadata": {
    "collapsed": true
   },
   "outputs": [],
   "source": [
    "import os \n",
    "import re"
   ]
  },
  {
   "cell_type": "code",
   "execution_count": 3,
   "metadata": {
    "collapsed": false
   },
   "outputs": [],
   "source": [
    "def get_energy_dihedral(directory):\n",
    "    dihedral, energy = [], []\n",
    "    for f in os.listdir(directory):\n",
    "        if \".qcout\" in f:\n",
    "            if \".orig\" not in f:\n",
    "                output = QcOutput('{d}/{f}'.format(d=directory,f=f))\n",
    "                qchem_in = output.data[-1]['input']\n",
    "                try:\n",
    "                    energy.append(output.final_energy)\n",
    "                except IndexError:\n",
    "                    energy.append('no energy') \n",
    "                constraints = qchem_in.params['opt']\n",
    "                for l in constraints:\n",
    "                    if 'tors' in l:\n",
    "                        dihedral.append(l[len(l)-1])\n",
    "    return dihedral, energy"
   ]
  },
  {
   "cell_type": "code",
   "execution_count": 4,
   "metadata": {
    "collapsed": false
   },
   "outputs": [],
   "source": [
    "dihedral, energy = get_energy_dihedral('./pt_cust_dft_full')"
   ]
  },
  {
   "cell_type": "markdown",
   "metadata": {},
   "source": [
    "# Plot dihedral potential"
   ]
  },
  {
   "cell_type": "code",
   "execution_count": 5,
   "metadata": {
    "collapsed": true
   },
   "outputs": [],
   "source": [
    "import matplotlib.pyplot as plt\n",
    "%matplotlib inline"
   ]
  },
  {
   "cell_type": "code",
   "execution_count": 6,
   "metadata": {
    "collapsed": true
   },
   "outputs": [],
   "source": [
    "def eV_to_kJmol(energy):\n",
    "    kJ_mol = [(i*96.48537559152172) for i in energy]\n",
    "    return kJ_mol"
   ]
  },
  {
   "cell_type": "code",
   "execution_count": 7,
   "metadata": {
    "collapsed": true
   },
   "outputs": [],
   "source": [
    "def eV_to_kcalmol(energy):\n",
    "    kcal_mol = [(i*23.06035) for i in energy]\n",
    "    return kcal_mol"
   ]
  },
  {
   "cell_type": "code",
   "execution_count": 8,
   "metadata": {
    "collapsed": false
   },
   "outputs": [],
   "source": [
    "kJmol_energy = eV_to_kJmol(energy)"
   ]
  },
  {
   "cell_type": "code",
   "execution_count": 9,
   "metadata": {
    "collapsed": true
   },
   "outputs": [],
   "source": [
    "def relative_energy(energy):\n",
    "    minimum = min(energy, key=float)\n",
    "    rel_energy = [i - minimum for i in energy]\n",
    "    return rel_energy"
   ]
  },
  {
   "cell_type": "code",
   "execution_count": 10,
   "metadata": {
    "collapsed": false
   },
   "outputs": [],
   "source": [
    "rel_eV_energy = relative_energy(energy)"
   ]
  },
  {
   "cell_type": "code",
   "execution_count": 11,
   "metadata": {
    "collapsed": false
   },
   "outputs": [
    {
     "data": {
      "text/plain": [
       "[<matplotlib.lines.Line2D at 0x1110d4b90>]"
      ]
     },
     "execution_count": 11,
     "metadata": {},
     "output_type": "execute_result"
    },
    {
     "data": {
      "image/png": "[encoded data removed]",
      "text/plain": [
       "<matplotlib.figure.Figure at 0x10d0f07d0>"
      ]
     },
     "metadata": {},
     "output_type": "display_data"
    }
   ],
   "source": [
    "plt.plot(dihedral, rel_eV_energy, 'o')"
   ]
  },
  {
   "cell_type": "code",
   "execution_count": 12,
   "metadata": {
    "collapsed": false
   },
   "outputs": [],
   "source": [
    "#out_0 = QcOutput('./pt_cust_dft_full/pt_dft_0.0.qcout')\n",
    "#final_struc_0 = out_0.final_structure\n",
    "#final_struc_0.to(filename='final_structure_0.xyz', fmt='xyz')"
   ]
  },
  {
   "cell_type": "markdown",
   "metadata": {
    "collapsed": true
   },
   "source": [
    "# Fitting dihedral curve"
   ]
  },
  {
   "cell_type": "code",
   "execution_count": 13,
   "metadata": {
    "collapsed": true
   },
   "outputs": [],
   "source": [
    "from scipy.optimize import curve_fit"
   ]
  },
  {
   "cell_type": "code",
   "execution_count": 14,
   "metadata": {
    "collapsed": false
   },
   "outputs": [],
   "source": [
    "# Ryckaert_Bellemans dihedral potential function\n",
    "def RB_potential(x, a, b, c, d, e, f):\n",
    "    return (a*1.0 + b*np.cos(x*np.pi/180.0) + c*(np.cos(x*np.pi/180.0)**2) + d*(np.cos(x*np.pi/180.0)**3) + e*(np.cos(x*np.pi/180.0)**4) + f*(np.cos(x*np.pi/180.0)**5))"
   ]
  },
  {
   "cell_type": "code",
   "execution_count": 15,
   "metadata": {
    "collapsed": true
   },
   "outputs": [],
   "source": [
    "#rel_kcal_mol_energy = relative_energy(eV_to_kcalmol(energy))\n",
    "#All calcs in relative eVs"
   ]
  },
  {
   "cell_type": "code",
   "execution_count": 16,
   "metadata": {
    "collapsed": false
   },
   "outputs": [],
   "source": [
    "popt, pcov = curve_fit(RB_potential,dihedral,rel_eV_energy)"
   ]
  },
  {
   "cell_type": "code",
   "execution_count": 17,
   "metadata": {
    "collapsed": false
   },
   "outputs": [
    {
     "data": {
      "text/plain": [
       "array([ 0.09589618,  0.00937093, -0.21725121,  0.00549039,  0.14653387,\n",
       "        0.00507763])"
      ]
     },
     "execution_count": 17,
     "metadata": {},
     "output_type": "execute_result"
    }
   ],
   "source": [
    "popt"
   ]
  },
  {
   "cell_type": "code",
   "execution_count": 18,
   "metadata": {
    "collapsed": false
   },
   "outputs": [],
   "source": [
    "# create list of angles and corresponding energies\n",
    "angles = np.linspace(-170, 180, 1080)\n",
    "RB_energy = [RB_potential(angle, popt[0], popt[1], popt[2], popt[3], popt[4], popt[5]) for angle in angles]"
   ]
  },
  {
   "cell_type": "code",
   "execution_count": 19,
   "metadata": {
    "collapsed": false
   },
   "outputs": [],
   "source": [
    "#sort lists so line plot makes sense\n",
    "#di_energy_list = zip(angles, RB_energy)\n",
    "#sorted_di_energy = sorted(di_energy_list, key=lambda tup: tup[0])\n",
    "#sorted_dihedral, sorted_RB_energy = zip(*sorted_di_energy)"
   ]
  },
  {
   "cell_type": "code",
   "execution_count": 20,
   "metadata": {
    "collapsed": false
   },
   "outputs": [
    {
     "data": {
      "image/png": "[encoded data removed]",
      "text/plain": [
       "<matplotlib.figure.Figure at 0x11190bb10>"
      ]
     },
     "metadata": {},
     "output_type": "display_data"
    }
   ],
   "source": [
    "plt.figure()\n",
    "plt.plot(dihedral, rel_eV_energy, 'o', angles, RB_energy, 'black')\n",
    "plt.xlabel('Dihedral angle')\n",
    "plt.ylabel('Relative eV')\n",
    "plt.show()"
   ]
  },
  {
   "cell_type": "markdown",
   "metadata": {},
   "source": [
    "# Probabilities using Bolzmann distribution"
   ]
  },
  {
   "cell_type": "code",
   "execution_count": 21,
   "metadata": {
    "collapsed": true
   },
   "outputs": [],
   "source": [
    "kb_eVpK = 8.6173324 * 10**-5"
   ]
  },
  {
   "cell_type": "code",
   "execution_count": 22,
   "metadata": {
    "collapsed": true
   },
   "outputs": [],
   "source": [
    "kbT700 = kb_eVpK * 700.0"
   ]
  },
  {
   "cell_type": "code",
   "execution_count": 23,
   "metadata": {
    "collapsed": true
   },
   "outputs": [],
   "source": [
    "kbT300 = kb_eVpK * 300.0"
   ]
  },
  {
   "cell_type": "code",
   "execution_count": 24,
   "metadata": {
    "collapsed": false
   },
   "outputs": [
    {
     "data": {
      "text/plain": [
       "(0.0038499718951866399, 0.060321326800000005)"
      ]
     },
     "execution_count": 24,
     "metadata": {},
     "output_type": "execute_result"
    }
   ],
   "source": [
    "RB_energy[0], kbT700"
   ]
  },
  {
   "cell_type": "code",
   "execution_count": 25,
   "metadata": {
    "collapsed": false
   },
   "outputs": [
    {
     "data": {
      "text/plain": [
       "0.93816973692573624"
      ]
     },
     "execution_count": 25,
     "metadata": {},
     "output_type": "execute_result"
    }
   ],
   "source": [
    "np.exp(-RB_energy[0] / kbT700)"
   ]
  },
  {
   "cell_type": "code",
   "execution_count": 26,
   "metadata": {
    "collapsed": false
   },
   "outputs": [],
   "source": [
    "# normalization \n",
    "boltz_factor_700 = [np.exp(-energy / kbT700) for energy in RB_energy]\n",
    "normalize_val = sum(boltz_factor_700)"
   ]
  },
  {
   "cell_type": "code",
   "execution_count": 27,
   "metadata": {
    "collapsed": false
   },
   "outputs": [
    {
     "data": {
      "text/plain": [
       "593.6871656219015"
      ]
     },
     "execution_count": 27,
     "metadata": {},
     "output_type": "execute_result"
    }
   ],
   "source": [
    "normalize_val"
   ]
  },
  {
   "cell_type": "code",
   "execution_count": 28,
   "metadata": {
    "collapsed": true
   },
   "outputs": [],
   "source": [
    "prob_700 = [(np.exp(-energy / kbT700) / normalize_val) for energy in RB_energy]"
   ]
  },
  {
   "cell_type": "code",
   "execution_count": 29,
   "metadata": {
    "collapsed": false
   },
   "outputs": [
    {
     "data": {
      "image/png": "[encoded data removed]",
      "text/plain": [
       "<matplotlib.figure.Figure at 0x10d0d6610>"
      ]
     },
     "metadata": {},
     "output_type": "display_data"
    }
   ],
   "source": [
    "plt.figure()\n",
    "plt.plot(angles, prob_700)\n",
    "plt.xlabel('Diheadral angle')\n",
    "plt.ylabel('Probability')\n",
    "plt.show()"
   ]
  },
  {
   "cell_type": "markdown",
   "metadata": {},
   "source": [
    "# Map random numbers between 0-1 to dihedral angles"
   ]
  },
  {
   "cell_type": "code",
   "execution_count": 30,
   "metadata": {
    "collapsed": true
   },
   "outputs": [],
   "source": [
    "cum_prob = [sum(prob_700[0:prob_i]) for prob_i in range(len(prob_700))]"
   ]
  },
  {
   "cell_type": "code",
   "execution_count": 31,
   "metadata": {
    "collapsed": false
   },
   "outputs": [
    {
     "data": {
      "image/png": "[encoded data removed]",
      "text/plain": [
       "<matplotlib.figure.Figure at 0x111aa7a90>"
      ]
     },
     "metadata": {},
     "output_type": "display_data"
    }
   ],
   "source": [
    "plt.figure()\n",
    "plt.plot(cum_prob, angles)\n",
    "plt.xlabel('Cumulative probability')\n",
    "plt.ylabel('Dihedral angle')\n",
    "plt.show()"
   ]
  },
  {
   "cell_type": "code",
   "execution_count": 32,
   "metadata": {
    "collapsed": true
   },
   "outputs": [],
   "source": [
    "angle_map = zip(cum_prob, angles)"
   ]
  },
  {
   "cell_type": "code",
   "execution_count": 33,
   "metadata": {
    "collapsed": true
   },
   "outputs": [],
   "source": [
    "from scipy.interpolate import interp1d"
   ]
  },
  {
   "cell_type": "code",
   "execution_count": 34,
   "metadata": {
    "collapsed": true
   },
   "outputs": [],
   "source": [
    "angle_map = interp1d(cum_prob, angles, kind='cubic')"
   ]
  },
  {
   "cell_type": "code",
   "execution_count": 35,
   "metadata": {
    "collapsed": false
   },
   "outputs": [
    {
     "data": {
      "text/plain": [
       "array([ 158.57852851, -109.23452336])"
      ]
     },
     "execution_count": 35,
     "metadata": {},
     "output_type": "execute_result"
    }
   ],
   "source": [
    "angle_map([.89334223, .24234980234])"
   ]
  },
  {
   "cell_type": "markdown",
   "metadata": {
    "collapsed": true
   },
   "source": [
    "# Build PT all trans backbone"
   ]
  },
  {
   "cell_type": "code",
   "execution_count": 36,
   "metadata": {
    "collapsed": false
   },
   "outputs": [],
   "source": [
    "ring_len = 2.548\n",
    "bond_len = 1.480\n",
    "pi = np.pi"
   ]
  },
  {
   "cell_type": "code",
   "execution_count": 37,
   "metadata": {
    "collapsed": false
   },
   "outputs": [
    {
     "data": {
      "text/plain": [
       "22"
      ]
     },
     "execution_count": 37,
     "metadata": {},
     "output_type": "execute_result"
    }
   ],
   "source": [
    "n = 11\n",
    "chain = np.zeros(((2*n),3))\n",
    "len(chain)"
   ]
  },
  {
   "cell_type": "code",
   "execution_count": 38,
   "metadata": {
    "collapsed": true
   },
   "outputs": [],
   "source": [
    "# relative positions r-b1-r-b2-r-b1-r-b2-r ...\n",
    "r = [ring_len,0,0]\n",
    "b1 = [bond_len*np.cos(pi/12.0), -bond_len*np.sin(pi/12.0), 0]\n",
    "b2 = [bond_len*np.cos(pi/12.0), bond_len*np.sin(pi/12.0), 0]"
   ]
  },
  {
   "cell_type": "code",
   "execution_count": 39,
   "metadata": {
    "collapsed": false
   },
   "outputs": [],
   "source": [
    "bond_iter = 'b1'\n",
    "for pos in range(1,(2*n),1):\n",
    "    #print pos\n",
    "    #print bond_iter\n",
    "    if pos % 2 != 0:\n",
    "        chain[pos] = chain[pos-1] + r\n",
    "        continue\n",
    "    elif pos % 2 == 0:\n",
    "        if bond_iter == 'b1':\n",
    "            chain[pos] = chain[pos-1] + b1\n",
    "            bond_iter = 'b2'\n",
    "        elif bond_iter == 'b2':\n",
    "            chain[pos] = chain[pos-1] + b2\n",
    "            bond_iter = 'b1'"
   ]
  },
  {
   "cell_type": "code",
   "execution_count": 40,
   "metadata": {
    "collapsed": false
   },
   "outputs": [
    {
     "data": {
      "text/plain": [
       "array([[  0.        ,   0.        ,   0.        ],\n",
       "       [  2.548     ,   0.        ,   0.        ],\n",
       "       [  3.97757022,  -0.38305219,   0.        ],\n",
       "       [  6.52557022,  -0.38305219,   0.        ],\n",
       "       [  7.95514045,   0.        ,   0.        ],\n",
       "       [ 10.50314045,   0.        ,   0.        ],\n",
       "       [ 11.93271067,  -0.38305219,   0.        ],\n",
       "       [ 14.48071067,  -0.38305219,   0.        ],\n",
       "       [ 15.91028089,   0.        ,   0.        ],\n",
       "       [ 18.45828089,   0.        ,   0.        ],\n",
       "       [ 19.88785111,  -0.38305219,   0.        ],\n",
       "       [ 22.43585111,  -0.38305219,   0.        ],\n",
       "       [ 23.86542134,   0.        ,   0.        ],\n",
       "       [ 26.41342134,   0.        ,   0.        ],\n",
       "       [ 27.84299156,  -0.38305219,   0.        ],\n",
       "       [ 30.39099156,  -0.38305219,   0.        ],\n",
       "       [ 31.82056178,   0.        ,   0.        ],\n",
       "       [ 34.36856178,   0.        ,   0.        ],\n",
       "       [ 35.79813201,  -0.38305219,   0.        ],\n",
       "       [ 38.34613201,  -0.38305219,   0.        ],\n",
       "       [ 39.77570223,   0.        ,   0.        ],\n",
       "       [ 42.32370223,   0.        ,   0.        ]])"
      ]
     },
     "execution_count": 40,
     "metadata": {},
     "output_type": "execute_result"
    }
   ],
   "source": [
    "chain"
   ]
  },
  {
   "cell_type": "code",
   "execution_count": 41,
   "metadata": {
    "collapsed": false
   },
   "outputs": [
    {
     "data": {
      "text/plain": [
       "array([  0.        ,   2.548     ,   3.97757022,   6.52557022,\n",
       "         7.95514045,  10.50314045,  11.93271067,  14.48071067,\n",
       "        15.91028089,  18.45828089,  19.88785111,  22.43585111,\n",
       "        23.86542134,  26.41342134,  27.84299156,  30.39099156,\n",
       "        31.82056178,  34.36856178,  35.79813201,  38.34613201,\n",
       "        39.77570223,  42.32370223])"
      ]
     },
     "execution_count": 41,
     "metadata": {},
     "output_type": "execute_result"
    }
   ],
   "source": [
    "chain[:,0]"
   ]
  },
  {
   "cell_type": "code",
   "execution_count": 42,
   "metadata": {
    "collapsed": false,
    "scrolled": true
   },
   "outputs": [
    {
     "data": {
      "image/png": "[encoded data removed]",
      "text/plain": [
       "<matplotlib.figure.Figure at 0x111cd0750>"
      ]
     },
     "metadata": {},
     "output_type": "display_data"
    }
   ],
   "source": [
    "plt.plot(chain[:,0], chain[:,1], 'o', chain[:,0], chain[:,1], 'black')\n",
    "plt.xlim(-1,50)\n",
    "plt.ylim(-1.5,1.5)\n",
    "#plt.axes().set_aspect('equal', 'datalim')\n",
    "plt.show()"
   ]
  },
  {
   "cell_type": "code",
   "execution_count": 43,
   "metadata": {
    "collapsed": false
   },
   "outputs": [
    {
     "data": {
      "image/png": "[encoded data removed]",
      "text/plain": [
       "<matplotlib.figure.Figure at 0x10af10210>"
      ]
     },
     "metadata": {},
     "output_type": "display_data"
    }
   ],
   "source": [
    "plt.plot(chain[:,0], chain[:,1], 'o', chain[:,0], chain[:,1], 'black')\n",
    "plt.xlim(-1,50)\n",
    "plt.ylim(-1.5,1.5)\n",
    "plt.axes().set_aspect('equal', 'datalim')\n",
    "plt.show()"
   ]
  },
  {
   "cell_type": "code",
   "execution_count": 44,
   "metadata": {
    "collapsed": false,
    "scrolled": true
   },
   "outputs": [
    {
     "data": {
      "text/plain": [
       "1.4800000000000002"
      ]
     },
     "execution_count": 44,
     "metadata": {},
     "output_type": "execute_result"
    }
   ],
   "source": [
    "np.linalg.norm(chain[1]-chain[2])"
   ]
  },
  {
   "cell_type": "code",
   "execution_count": 45,
   "metadata": {
    "collapsed": false
   },
   "outputs": [],
   "source": [
    "from pymatgen.util.coord_utils import get_angle"
   ]
  },
  {
   "cell_type": "code",
   "execution_count": 46,
   "metadata": {
    "collapsed": false
   },
   "outputs": [
    {
     "data": {
      "text/plain": [
       "165.0"
      ]
     },
     "execution_count": 46,
     "metadata": {},
     "output_type": "execute_result"
    }
   ],
   "source": [
    "get_angle(chain[0]-chain[1], chain[2]-chain[1])"
   ]
  },
  {
   "cell_type": "code",
   "execution_count": 47,
   "metadata": {
    "collapsed": true
   },
   "outputs": [],
   "source": [
    "def build_chain(n):\n",
    "    chain = np.zeros(((2*n),3))\n",
    "    ring_len = 2.548\n",
    "    bond_len = 1.480\n",
    "    pi = np.pi\n",
    "    r = [ring_len,0,0]\n",
    "    b1 = [bond_len*math.cos(pi/12.0), -bond_len*math.sin(pi/12.0), 0]\n",
    "    b2 = [bond_len*math.cos(pi/12.0), bond_len*math.sin(pi/12.0), 0]\n",
    "    bond_iter = 'b1'\n",
    "    for pos in range(1,(2*n),1):\n",
    "        if pos % 2 != 0:\n",
    "            chain[pos] = chain[pos-1] + r\n",
    "            continue\n",
    "        elif pos % 2 == 0:\n",
    "            if bond_iter == 'b1':\n",
    "                chain[pos] = chain[pos-1] + b1\n",
    "                bond_iter = 'b2'\n",
    "            elif bond_iter == 'b2':\n",
    "                chain[pos] = chain[pos-1] + b2\n",
    "                bond_iter = 'b1'\n",
    "    return chain"
   ]
  },
  {
   "cell_type": "code",
   "execution_count": 48,
   "metadata": {
    "collapsed": false
   },
   "outputs": [
    {
     "name": "stdout",
     "output_type": "stream",
     "text": [
      "1000 loops, best of 3: 268 µs per loop\n"
     ]
    }
   ],
   "source": [
    "%timeit build_chain(50)"
   ]
  },
  {
   "cell_type": "markdown",
   "metadata": {
    "collapsed": true
   },
   "source": [
    "# Rotation Matrix"
   ]
  },
  {
   "cell_type": "code",
   "execution_count": 49,
   "metadata": {
    "collapsed": true
   },
   "outputs": [],
   "source": [
    "#calc and return unit vector of two pts, pts must numpy format\n",
    "def unit_vector(pt1, pt2):\n",
    "    line = pt1 - pt2\n",
    "    return line/math.sqrt((np.dot(line, line)))"
   ]
  },
  {
   "cell_type": "code",
   "execution_count": 50,
   "metadata": {
    "collapsed": false
   },
   "outputs": [],
   "source": [
    "#rotate a point around an arbitray unit vector\n",
    "#http://inside.mines.edu/fs_home/gmurray/ArbitraryAxisRotation/\n",
    "def point_rotation(pt, angle_degree, unit_vector, origin=None):\n",
    "    angle = np.pi - (angle_degree * (np.pi / 180.0))\n",
    "    x, y, z = pt[0], pt[1], pt[2]\n",
    "    u, v, w = unit_vector[0], unit_vector[1], unit_vector[2]\n",
    "    if origin is not None:\n",
    "        a, b, c = origin[0], origin[1], origin[2]\n",
    "    else:\n",
    "        a,b,c = 0.0, 0.0, 0.0\n",
    "    new_x = ((a*(v**2 + w**2) - u*(b*v + c*w - u*x - v*y - w*z))*(1 - math.cos(angle)) \n",
    "             + x*math.cos(angle) \n",
    "             + (-c*v + b*w - w*y + v*z)*math.sin(angle))\n",
    "    \n",
    "    new_y = ((b*(u**2 + w**2) - v*(a*u + c*w - u*x - v*y - w*z))*(1 - math.cos(angle)) \n",
    "             + y*math.cos(angle)\n",
    "             + (c*u - a*w + w*x - u*z)*math.sin(angle))\n",
    "    \n",
    "    new_z = ((c*(u**2 + v**2) - w*(a*u + b*v - u*x - v*y - w*z))*(1 - math.cos(angle)) \n",
    "             + z*math.cos(angle)\n",
    "             + (-b*u + a*v - v*x + u*y)*math.sin(angle))\n",
    "    return np.array([new_x, new_y, new_z])\n",
    "    "
   ]
  },
  {
   "cell_type": "markdown",
   "metadata": {},
   "source": [
    "# Generate dihedral set"
   ]
  },
  {
   "cell_type": "code",
   "execution_count": 51,
   "metadata": {
    "collapsed": false
   },
   "outputs": [],
   "source": [
    "dihedral_set = angle_map(np.random.uniform(0,1, size=10))"
   ]
  },
  {
   "cell_type": "markdown",
   "metadata": {},
   "source": [
    "# Tangent - tangent correlation function"
   ]
  },
  {
   "cell_type": "code",
   "execution_count": 52,
   "metadata": {
    "collapsed": false
   },
   "outputs": [],
   "source": [
    "#def corr_fn(tan1, tan2):\n",
    "    "
   ]
  },
  {
   "cell_type": "markdown",
   "metadata": {},
   "source": [
    "# Build and relax a single chain"
   ]
  },
  {
   "cell_type": "code",
   "execution_count": 53,
   "metadata": {
    "collapsed": false
   },
   "outputs": [],
   "source": [
    "def relax_chain(chain_len, dihedral_set):\n",
    "    #dihedral_set = angle_map(np.random.uniform(0,1, size=(chain_len-1)))\n",
    "    chain = build_chain(chain_len)\n",
    "    end_to_end = [0.0, 2.548]\n",
    "    pos_i = 1\n",
    "    for angle in dihedral_set:\n",
    "        uv = unit_vector(chain[pos_i], chain[pos_i+1])\n",
    "        for pos_j in range(pos_i+2, len(chain), 1):\n",
    "            chain[pos_j] = point_rotation(chain[pos_j], angle, uv, origin=chain[pos_i])\n",
    "        pos_i += 2\n",
    "        end_to_end.append(math.sqrt(np.dot(chain[pos_i]-chain[0], chain[pos_i]-chain[0])))\n",
    "    return chain, np.array(end_to_end)"
   ]
  },
  {
   "cell_type": "code",
   "execution_count": 54,
   "metadata": {
    "collapsed": false
   },
   "outputs": [
    {
     "data": {
      "text/plain": [
       "array([[  0.        ,   0.        ,   0.        ],\n",
       "       [  2.548     ,   0.        ,   0.        ],\n",
       "       [  3.97757022,  -0.38305219,   0.        ],\n",
       "       [  6.51121652,  -0.43662094,   0.26470896],\n",
       "       [  7.92468028,  -0.11367887,   0.56174196],\n",
       "       [ 10.08927484,   0.72622762,   1.61121398],\n",
       "       [ 11.1047278 ,   1.34575438,   2.49180575],\n",
       "       [ 13.03114472,   1.77850584,   4.10237957],\n",
       "       [ 14.1773466 ,   1.64457451,   5.02903142],\n",
       "       [ 16.40162678,   1.89970476,   6.24549772]])"
      ]
     },
     "execution_count": 54,
     "metadata": {},
     "output_type": "execute_result"
    }
   ],
   "source": [
    "test_chain, a1 = relax_chain(5, angle_map(np.random.uniform(0,1, size=(5-1))))\n",
    "test_chain"
   ]
  },
  {
   "cell_type": "code",
   "execution_count": 55,
   "metadata": {
    "collapsed": true
   },
   "outputs": [],
   "source": [
    "import matplotlib as mpl\n",
    "from mpl_toolkits.mplot3d import Axes3D"
   ]
  },
  {
   "cell_type": "code",
   "execution_count": 56,
   "metadata": {
    "collapsed": false
   },
   "outputs": [
    {
     "data": {
      "text/plain": [
       "[<mpl_toolkits.mplot3d.art3d.Line3D at 0x1130f8c50>]"
      ]
     },
     "execution_count": 56,
     "metadata": {},
     "output_type": "execute_result"
    },
    {
     "data": {
      "image/png": "[encoded data removed]",
      "text/plain": [
       "<matplotlib.figure.Figure at 0x1130f8050>"
      ]
     },
     "metadata": {},
     "output_type": "display_data"
    }
   ],
   "source": [
    "fig = plt.figure()\n",
    "ax = Axes3D(fig)\n",
    "ax.plot(test_chain[:,0], test_chain[:,1], test_chain[:,2])"
   ]
  },
  {
   "cell_type": "code",
   "execution_count": 57,
   "metadata": {
    "collapsed": false
   },
   "outputs": [],
   "source": [
    "names = [\"C\" for i in range(len(chain))]"
   ]
  },
  {
   "cell_type": "code",
   "execution_count": 58,
   "metadata": {
    "collapsed": false
   },
   "outputs": [],
   "source": [
    "chain_mol = Molecule(names, chain)"
   ]
  },
  {
   "cell_type": "code",
   "execution_count": 59,
   "metadata": {
    "collapsed": false
   },
   "outputs": [
    {
     "data": {
      "text/plain": [
       "Molecule Summary\n",
       "Site: C (0.0000, 0.0000, 0.0000)\n",
       "Site: C (2.5480, 0.0000, 0.0000)\n",
       "Site: C (3.9776, -0.3831, 0.0000)\n",
       "Site: C (6.5256, -0.3831, 0.0000)\n",
       "Site: C (7.9551, 0.0000, 0.0000)\n",
       "Site: C (10.5031, 0.0000, 0.0000)\n",
       "Site: C (11.9327, -0.3831, 0.0000)\n",
       "Site: C (14.4807, -0.3831, 0.0000)\n",
       "Site: C (15.9103, 0.0000, 0.0000)\n",
       "Site: C (18.4583, 0.0000, 0.0000)\n",
       "Site: C (19.8879, -0.3831, 0.0000)\n",
       "Site: C (22.4359, -0.3831, 0.0000)\n",
       "Site: C (23.8654, 0.0000, 0.0000)\n",
       "Site: C (26.4134, 0.0000, 0.0000)\n",
       "Site: C (27.8430, -0.3831, 0.0000)\n",
       "Site: C (30.3910, -0.3831, 0.0000)\n",
       "Site: C (31.8206, 0.0000, 0.0000)\n",
       "Site: C (34.3686, 0.0000, 0.0000)\n",
       "Site: C (35.7981, -0.3831, 0.0000)\n",
       "Site: C (38.3461, -0.3831, 0.0000)\n",
       "Site: C (39.7757, 0.0000, 0.0000)\n",
       "Site: C (42.3237, 0.0000, 0.0000)"
      ]
     },
     "execution_count": 59,
     "metadata": {},
     "output_type": "execute_result"
    }
   ],
   "source": [
    "chain_mol"
   ]
  },
  {
   "cell_type": "code",
   "execution_count": 60,
   "metadata": {
    "collapsed": true
   },
   "outputs": [],
   "source": [
    "import dihedral_tools"
   ]
  },
  {
   "cell_type": "code",
   "execution_count": 61,
   "metadata": {
    "collapsed": false
   },
   "outputs": [
    {
     "data": {
      "text/plain": [
       "-180.0"
      ]
     },
     "execution_count": 61,
     "metadata": {},
     "output_type": "execute_result"
    }
   ],
   "source": [
    "dihedral_tools.get_dihedral(chain_mol, [1,2,3,4])"
   ]
  },
  {
   "cell_type": "code",
   "execution_count": 62,
   "metadata": {
    "collapsed": false
   },
   "outputs": [
    {
     "data": {
      "text/plain": [
       "-180.0"
      ]
     },
     "execution_count": 62,
     "metadata": {},
     "output_type": "execute_result"
    }
   ],
   "source": [
    "dihedral_tools.get_dihedral(chain_mol, [3,4,5,6])"
   ]
  },
  {
   "cell_type": "code",
   "execution_count": 63,
   "metadata": {
    "collapsed": false
   },
   "outputs": [
    {
     "data": {
      "text/plain": [
       "-180.0"
      ]
     },
     "execution_count": 63,
     "metadata": {},
     "output_type": "execute_result"
    }
   ],
   "source": [
    "dihedral_tools.get_dihedral(chain_mol, [5,6,7,8])"
   ]
  },
  {
   "cell_type": "code",
   "execution_count": 64,
   "metadata": {
    "collapsed": false
   },
   "outputs": [
    {
     "data": {
      "text/plain": [
       "-180.0"
      ]
     },
     "execution_count": 64,
     "metadata": {},
     "output_type": "execute_result"
    }
   ],
   "source": [
    "dihedral_tools.get_dihedral(chain_mol, [7,8,9,10])"
   ]
  },
  {
   "cell_type": "markdown",
   "metadata": {},
   "source": [
    "# Sample ensemble of chains"
   ]
  },
  {
   "cell_type": "code",
   "execution_count": 98,
   "metadata": {
    "collapsed": true
   },
   "outputs": [],
   "source": [
    "def sample_chains(chain_len, dihedral_set, chain_num):\n",
    "    ave_ete = np.zeros(chain_len+1)\n",
    "    for chain_i in range(chain_num):\n",
    "        chain, end_to_end = relax_chain(chain_len, dihedral_set)\n",
    "        ave_ete += end_to_end\n",
    "    ave_ete /= chain_num\n",
    "    return ave_ete"
   ]
  },
  {
   "cell_type": "code",
   "execution_count": 66,
   "metadata": {
    "collapsed": true
   },
   "outputs": [],
   "source": [
    "a = np.array([1,3])"
   ]
  },
  {
   "cell_type": "code",
   "execution_count": 67,
   "metadata": {
    "collapsed": false
   },
   "outputs": [
    {
     "name": "stdout",
     "output_type": "stream",
     "text": [
      "The slowest run took 33.50 times longer than the fastest. This could mean that an intermediate result is being cached.\n",
      "100000 loops, best of 3: 3.96 µs per loop\n"
     ]
    }
   ],
   "source": [
    "%timeit np.append(a,2)"
   ]
  },
  {
   "cell_type": "code",
   "execution_count": 68,
   "metadata": {
    "collapsed": true
   },
   "outputs": [],
   "source": [
    "b = [1,3]"
   ]
  },
  {
   "cell_type": "code",
   "execution_count": 69,
   "metadata": {
    "collapsed": false
   },
   "outputs": [
    {
     "name": "stdout",
     "output_type": "stream",
     "text": [
      "The slowest run took 28.09 times longer than the fastest. This could mean that an intermediate result is being cached.\n",
      "1000000 loops, best of 3: 458 ns per loop\n"
     ]
    }
   ],
   "source": [
    "%timeit np.array(b.append(2))"
   ]
  },
  {
   "cell_type": "code",
   "execution_count": 93,
   "metadata": {
    "collapsed": false
   },
   "outputs": [
    {
     "data": {
      "text/plain": [
       "array([ 1. ,  1.5,  2. ])"
      ]
     },
     "execution_count": 93,
     "metadata": {},
     "output_type": "execute_result"
    }
   ],
   "source": [
    "te = np.array([2.0,3.0,4.0])\n",
    "te /= 2.0\n",
    "te"
   ]
  },
  {
   "cell_type": "code",
   "execution_count": 99,
   "metadata": {
    "collapsed": false
   },
   "outputs": [],
   "source": [
    "chain_len = 25\n",
    "dihedral_set = angle_map(np.random.uniform(0,1, size=(chain_len-1)))\n",
    "ave_ete_test = sample_chains(chain_len, dihedral_set, 1000)"
   ]
  },
  {
   "cell_type": "code",
   "execution_count": 3,
   "metadata": {
    "collapsed": false
   },
   "outputs": [
    {
     "ename": "NameError",
     "evalue": "name 'ave_ete_test' is not defined",
     "output_type": "error",
     "traceback": [
      "\u001b[0;31m---------------------------------------------------------------------------\u001b[0m",
      "\u001b[0;31mNameError\u001b[0m                                 Traceback (most recent call last)",
      "\u001b[0;32m<ipython-input-3-b25018534b86>\u001b[0m in \u001b[0;36m<module>\u001b[0;34m()\u001b[0m\n\u001b[0;32m----> 1\u001b[0;31m \u001b[0mave_ete_test\u001b[0m\u001b[0;34m\u001b[0m\u001b[0m\n\u001b[0m",
      "\u001b[0;31mNameError\u001b[0m: name 'ave_ete_test' is not defined"
     ]
    }
   ],
   "source": []
  },
  {
   "cell_type": "code",
   "execution_count": null,
   "metadata": {
    "collapsed": true
   },
   "outputs": [],
   "source": []
  }
 ],
 "metadata": {
  "kernelspec": {
   "display_name": "Python 2",
   "language": "python",
   "name": "python2"
  },
  "language_info": {
   "codemirror_mode": {
    "name": "ipython",
    "version": 2
   },
   "file_extension": ".py",
   "mimetype": "text/x-python",
   "name": "python",
   "nbconvert_exporter": "python",
   "pygments_lexer": "ipython2",
   "version": "2.7.10"
  }
 },
 "nbformat": 4,
 "nbformat_minor": 0
}
